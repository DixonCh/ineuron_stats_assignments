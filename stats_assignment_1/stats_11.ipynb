{
 "cells": [
  {
   "cell_type": "code",
   "execution_count": 2,
   "metadata": {},
   "outputs": [],
   "source": [
    "import numpy as np\n",
    "import scipy.stats as st"
   ]
  },
  {
   "cell_type": "code",
   "execution_count": 3,
   "metadata": {},
   "outputs": [],
   "source": [
    "def get_pvalue(x,mean,std):\n",
    "    z_score= (x-mean)/std\n",
    "    p_value= st.norm.sf(z_score)\n",
    "    return p_value\n"
   ]
  },
  {
   "cell_type": "markdown",
   "metadata": {},
   "source": [
    "### Question A"
   ]
  },
  {
   "cell_type": "code",
   "execution_count": 4,
   "metadata": {},
   "outputs": [
    {
     "name": "stdout",
     "output_type": "stream",
     "text": [
      "P-value of measurement exceeding 13ma:0.06680720126885807\n"
     ]
    }
   ],
   "source": [
    "# for measurement exceeding 13 mA\n",
    "a=get_pvalue(13,10,np.sqrt(4))\n",
    "#as sf give right test result it works fine\n",
    "print(\"P-value of measurement exceeding 13ma:{}\".format(a))"
   ]
  },
  {
   "cell_type": "markdown",
   "metadata": {},
   "source": [
    "### Question B"
   ]
  },
  {
   "cell_type": "code",
   "execution_count": 6,
   "metadata": {},
   "outputs": [
    {
     "name": "stdout",
     "output_type": "stream",
     "text": [
      "In between 9 and 11 mA we have p-value:0.38292492254802624\n"
     ]
    }
   ],
   "source": [
    "b= get_pvalue(9,10,np.sqrt(4))\n",
    "c= get_pvalue(11,10,np.sqrt(4))\n",
    "\n",
    "d= b-c\n",
    "print(\"In between 9 and 11 mA we have p-value:{}\".format(d))"
   ]
  },
  {
   "cell_type": "markdown",
   "metadata": {},
   "source": [
    "### Question C"
   ]
  },
  {
   "cell_type": "code",
   "execution_count": 7,
   "metadata": {},
   "outputs": [],
   "source": [
    "def get_reading(p,mean,std):\n",
    "    z_score = st.norm.ppf(p) #assuming left tail test\n",
    "    reading = (z_score*std)+mean\n",
    "    return reading"
   ]
  },
  {
   "cell_type": "code",
   "execution_count": 8,
   "metadata": {},
   "outputs": [
    {
     "name": "stdout",
     "output_type": "stream",
     "text": [
      "Current Measurement with probab 0.98 is --> 14.107497821263646\n"
     ]
    }
   ],
   "source": [
    "print(\"Current Measurement with probab 0.98 is --> {}\".format(get_reading(0.98,10,np.sqrt(4))))"
   ]
  },
  {
   "cell_type": "code",
   "execution_count": null,
   "metadata": {},
   "outputs": [],
   "source": []
  }
 ],
 "metadata": {
  "kernelspec": {
   "display_name": "Python 3",
   "language": "python",
   "name": "python3"
  },
  "language_info": {
   "codemirror_mode": {
    "name": "ipython",
    "version": 3
   },
   "file_extension": ".py",
   "mimetype": "text/x-python",
   "name": "python",
   "nbconvert_exporter": "python",
   "pygments_lexer": "ipython3",
   "version": "3.6.9"
  }
 },
 "nbformat": 4,
 "nbformat_minor": 2
}
